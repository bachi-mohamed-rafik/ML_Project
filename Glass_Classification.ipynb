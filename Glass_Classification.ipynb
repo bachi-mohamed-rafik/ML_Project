{
  "nbformat": 4,
  "nbformat_minor": 0,
  "metadata": {
    "colab": {
      "name": "Glass_Classification.ipynb",
      "provenance": [],
      "collapsed_sections": [],
      "authorship_tag": "ABX9TyNMk2InBw5wL6YWi1A8ksH7",
      "include_colab_link": true
    },
    "kernelspec": {
      "name": "python3",
      "display_name": "Python 3"
    }
  },
  "cells": [
    {
      "cell_type": "markdown",
      "metadata": {
        "id": "view-in-github",
        "colab_type": "text"
      },
      "source": [
        "<a href=\"https://colab.research.google.com/github/bachi-mohamed-rafik/ML_Project/blob/main/Glass_Classification.ipynb\" target=\"_parent\"><img src=\"https://colab.research.google.com/assets/colab-badge.svg\" alt=\"Open In Colab\"/></a>"
      ]
    },
    {
      "cell_type": "markdown",
      "metadata": {
        "id": "Hfo1oe1BtuCj"
      },
      "source": [
        ""
      ]
    },
    {
      "cell_type": "code",
      "metadata": {
        "id": "1A2DFNBcto5W"
      },
      "source": [
        "import pandas as pd\r\n",
        "import numpy as np"
      ],
      "execution_count": 58,
      "outputs": []
    },
    {
      "cell_type": "markdown",
      "metadata": {
        "id": "MaEKVtO99tOF"
      },
      "source": [
        "# import dataset"
      ]
    },
    {
      "cell_type": "code",
      "metadata": {
        "colab": {
          "base_uri": "https://localhost:8080/"
        },
        "id": "v4S2xNRduJ8L",
        "outputId": "b21337c4-dd50-450d-fcc4-8236739475ec"
      },
      "source": [
        "data=pd.read_csv(\"https://archive.ics.uci.edu/ml/machine-learning-databases/glass/glass.data\")\r\n",
        "print(data.head())"
      ],
      "execution_count": 59,
      "outputs": [
        {
          "output_type": "stream",
          "text": [
            "   1  1.52101  13.64  4.49  1.10  71.78  0.06  8.75  0.00  0.00.1  1.1\n",
            "0  2  1.51761  13.89  3.60  1.36  72.73  0.48  7.83   0.0    0.00    1\n",
            "1  3  1.51618  13.53  3.55  1.54  72.99  0.39  7.78   0.0    0.00    1\n",
            "2  4  1.51766  13.21  3.69  1.29  72.61  0.57  8.22   0.0    0.00    1\n",
            "3  5  1.51742  13.27  3.62  1.24  73.08  0.55  8.07   0.0    0.00    1\n",
            "4  6  1.51596  12.79  3.61  1.62  72.97  0.64  8.07   0.0    0.26    1\n"
          ],
          "name": "stdout"
        }
      ]
    },
    {
      "cell_type": "code",
      "metadata": {
        "colab": {
          "base_uri": "https://localhost:8080/"
        },
        "id": "FOLDoUN2zCrP",
        "outputId": "b58a2cbb-71ff-46f2-dac3-f5cad5ef8255"
      },
      "source": [
        "print(data.columns)\r\n",
        "data.set_index('1')\r\n",
        "data.pop('1')\r\n",
        "data.columns = ['RI',\r\n",
        "'Na',\r\n",
        "'Mg',\r\n",
        "'Al',\r\n",
        "'Si',\r\n",
        "'K',\r\n",
        "'Ca',\r\n",
        "'Ba',\r\n",
        "'Fe',\r\n",
        "'Type']\r\n",
        "\r\n",
        "print(data)"
      ],
      "execution_count": 60,
      "outputs": [
        {
          "output_type": "stream",
          "text": [
            "Index(['1', '1.52101', '13.64', '4.49', '1.10', '71.78', '0.06', '8.75',\n",
            "       '0.00', '0.00.1', '1.1'],\n",
            "      dtype='object')\n",
            "          RI     Na    Mg    Al     Si     K    Ca    Ba    Fe  Type\n",
            "0    1.51761  13.89  3.60  1.36  72.73  0.48  7.83  0.00  0.00     1\n",
            "1    1.51618  13.53  3.55  1.54  72.99  0.39  7.78  0.00  0.00     1\n",
            "2    1.51766  13.21  3.69  1.29  72.61  0.57  8.22  0.00  0.00     1\n",
            "3    1.51742  13.27  3.62  1.24  73.08  0.55  8.07  0.00  0.00     1\n",
            "4    1.51596  12.79  3.61  1.62  72.97  0.64  8.07  0.00  0.26     1\n",
            "..       ...    ...   ...   ...    ...   ...   ...   ...   ...   ...\n",
            "208  1.51623  14.14  0.00  2.88  72.61  0.08  9.18  1.06  0.00     7\n",
            "209  1.51685  14.92  0.00  1.99  73.06  0.00  8.40  1.59  0.00     7\n",
            "210  1.52065  14.36  0.00  2.02  73.42  0.00  8.44  1.64  0.00     7\n",
            "211  1.51651  14.38  0.00  1.94  73.61  0.00  8.48  1.57  0.00     7\n",
            "212  1.51711  14.23  0.00  2.08  73.36  0.00  8.62  1.67  0.00     7\n",
            "\n",
            "[213 rows x 10 columns]\n"
          ],
          "name": "stdout"
        }
      ]
    },
    {
      "cell_type": "code",
      "metadata": {
        "colab": {
          "base_uri": "https://localhost:8080/"
        },
        "id": "k5KDhIghIi9N",
        "outputId": "9dd0ab68-19a4-4605-ba41-ea60d9d35a65"
      },
      "source": [
        "# split data\r\n",
        "x = data[['RI',\r\n",
        "'Na',\r\n",
        "'Mg',\r\n",
        "'Al',\r\n",
        "'Si',\r\n",
        "'K',\r\n",
        "'Ca',\r\n",
        "'Ba',\r\n",
        "'Fe']]\r\n",
        "print(x)\r\n",
        "\r\n",
        "y = data[['Type']]\r\n",
        "print(y)"
      ],
      "execution_count": 74,
      "outputs": [
        {
          "output_type": "stream",
          "text": [
            "          RI     Na    Mg    Al     Si     K    Ca    Ba    Fe\n",
            "0    1.51761  13.89  3.60  1.36  72.73  0.48  7.83  0.00  0.00\n",
            "1    1.51618  13.53  3.55  1.54  72.99  0.39  7.78  0.00  0.00\n",
            "2    1.51766  13.21  3.69  1.29  72.61  0.57  8.22  0.00  0.00\n",
            "3    1.51742  13.27  3.62  1.24  73.08  0.55  8.07  0.00  0.00\n",
            "4    1.51596  12.79  3.61  1.62  72.97  0.64  8.07  0.00  0.26\n",
            "..       ...    ...   ...   ...    ...   ...   ...   ...   ...\n",
            "208  1.51623  14.14  0.00  2.88  72.61  0.08  9.18  1.06  0.00\n",
            "209  1.51685  14.92  0.00  1.99  73.06  0.00  8.40  1.59  0.00\n",
            "210  1.52065  14.36  0.00  2.02  73.42  0.00  8.44  1.64  0.00\n",
            "211  1.51651  14.38  0.00  1.94  73.61  0.00  8.48  1.57  0.00\n",
            "212  1.51711  14.23  0.00  2.08  73.36  0.00  8.62  1.67  0.00\n",
            "\n",
            "[213 rows x 9 columns]\n",
            "     Type\n",
            "0       1\n",
            "1       1\n",
            "2       1\n",
            "3       1\n",
            "4       1\n",
            "..    ...\n",
            "208     7\n",
            "209     7\n",
            "210     7\n",
            "211     7\n",
            "212     7\n",
            "\n",
            "[213 rows x 1 columns]\n"
          ],
          "name": "stdout"
        }
      ]
    },
    {
      "cell_type": "markdown",
      "metadata": {
        "id": "yzWXkJsnAVbB"
      },
      "source": [
        "#2 CREATE GAUSSIEN NAIVE BAYES CLASSIFIER"
      ]
    },
    {
      "cell_type": "code",
      "metadata": {
        "id": "ovh2L9FHAdk4"
      },
      "source": [
        "#import Gaussien Naive BAyes model\r\n",
        "from sklearn.naive_bayes import GaussianNB\r\n",
        "#Create a gaussien Classifier\r\n",
        "model=GaussianNB()"
      ],
      "execution_count": 83,
      "outputs": []
    },
    {
      "cell_type": "markdown",
      "metadata": {
        "id": "JK8NorXyPCsp"
      },
      "source": [
        "# 3\\Train the model"
      ]
    },
    {
      "cell_type": "code",
      "metadata": {
        "colab": {
          "base_uri": "https://localhost:8080/"
        },
        "id": "Ptvjp8ykNvxI",
        "outputId": "45ae2adc-7423-46d2-d35b-9ed317574a59"
      },
      "source": [
        "#import train test split\r\n",
        "from sklearn.model_selection import train_test_split\r\n",
        "x_train,x_test,y_train,y_test=train_test_split(x,y,test_size=0.3)\r\n",
        "print(x_train)\r\n",
        "print(x_test)\r\n",
        "print(y_train)\r\n",
        "print(y_test)"
      ],
      "execution_count": 80,
      "outputs": [
        {
          "output_type": "stream",
          "text": [
            "          RI     Na    Mg    Al     Si     K     Ca    Ba    Fe\n",
            "62   1.52227  14.17  3.81  0.78  71.35  0.00   9.69  0.00  0.00\n",
            "125  1.51667  12.94  3.61  1.26  72.75  0.56   8.60  0.00  0.00\n",
            "136  1.51711  12.89  3.62  1.57  72.96  0.61   8.11  0.00  0.00\n",
            "164  1.52171  11.56  1.88  1.56  72.86  0.47  11.41  0.00  0.00\n",
            "170  1.51316  13.02  0.00  3.04  70.48  6.21   6.96  0.00  0.00\n",
            "..       ...    ...   ...   ...    ...   ...    ...   ...   ...\n",
            "201  1.51514  14.85  0.00  2.42  73.72  0.00   8.39  0.56  0.00\n",
            "7    1.51918  14.04  3.58  1.37  72.08  0.56   8.30  0.00  0.00\n",
            "39   1.51793  12.79  3.50  1.12  73.03  0.64   8.77  0.00  0.00\n",
            "48   1.51898  13.58  3.35  1.23  72.08  0.59   8.91  0.00  0.00\n",
            "12   1.51748  12.86  3.56  1.27  73.21  0.54   8.38  0.00  0.17\n",
            "\n",
            "[149 rows x 9 columns]\n",
            "          RI     Na    Mg    Al     Si     K     Ca    Ba    Fe\n",
            "126  1.52081  13.78  2.28  1.43  71.99  0.49   9.85  0.00  0.17\n",
            "181  1.51916  14.15  0.00  2.09  72.74  0.00  10.88  0.00  0.00\n",
            "63   1.52172  13.48  3.74  0.90  72.01  0.18   9.61  0.00  0.07\n",
            "20   1.51966  14.77  3.75  0.29  72.02  0.03   9.00  0.00  0.00\n",
            "103  1.52410  13.83  2.90  1.17  71.15  0.08  10.79  0.00  0.00\n",
            "..       ...    ...   ...   ...    ...   ...    ...   ...   ...\n",
            "99   1.51655  12.75  2.85  1.44  73.27  0.57   8.79  0.11  0.22\n",
            "135  1.51806  13.00  3.80  1.08  73.07  0.56   8.38  0.00  0.12\n",
            "156  1.52121  14.03  3.76  0.58  71.79  0.11   9.65  0.00  0.00\n",
            "158  1.51796  13.50  3.36  1.63  71.94  0.57   8.81  0.00  0.09\n",
            "52   1.51837  13.14  2.84  1.28  72.85  0.55   9.07  0.00  0.00\n",
            "\n",
            "[64 rows x 9 columns]\n",
            "     Type\n",
            "62      1\n",
            "125     2\n",
            "136     2\n",
            "164     5\n",
            "170     5\n",
            "..    ...\n",
            "201     7\n",
            "7       1\n",
            "39      1\n",
            "48      1\n",
            "12      1\n",
            "\n",
            "[149 rows x 1 columns]\n",
            "     Type\n",
            "126     2\n",
            "181     6\n",
            "63      1\n",
            "20      1\n",
            "103     2\n",
            "..    ...\n",
            "99      2\n",
            "135     2\n",
            "156     3\n",
            "158     3\n",
            "52      1\n",
            "\n",
            "[64 rows x 1 columns]\n"
          ],
          "name": "stdout"
        }
      ]
    },
    {
      "cell_type": "markdown",
      "metadata": {
        "id": "A4JEdUVCPTFl"
      },
      "source": [
        "#4\\ Fit the model"
      ]
    },
    {
      "cell_type": "code",
      "metadata": {
        "colab": {
          "base_uri": "https://localhost:8080/"
        },
        "id": "A8Yq5iPePXdb",
        "outputId": "3a220e02-bfdc-4f36-b20d-ae06a5cefd5a"
      },
      "source": [
        "#train the modal using the training sets\r\n",
        "model.fit(x_train,y_train)"
      ],
      "execution_count": 86,
      "outputs": [
        {
          "output_type": "stream",
          "text": [
            "/usr/local/lib/python3.6/dist-packages/sklearn/naive_bayes.py:206: DataConversionWarning: A column-vector y was passed when a 1d array was expected. Please change the shape of y to (n_samples, ), for example using ravel().\n",
            "  y = column_or_1d(y, warn=True)\n"
          ],
          "name": "stderr"
        },
        {
          "output_type": "execute_result",
          "data": {
            "text/plain": [
              "GaussianNB(priors=None, var_smoothing=1e-09)"
            ]
          },
          "metadata": {
            "tags": []
          },
          "execution_count": 86
        }
      ]
    },
    {
      "cell_type": "markdown",
      "metadata": {
        "id": "mjhk2zENUSIu"
      },
      "source": [
        "#5\\ Make prediction"
      ]
    },
    {
      "cell_type": "code",
      "metadata": {
        "colab": {
          "base_uri": "https://localhost:8080/"
        },
        "id": "m9y6Rb7wUW6r",
        "outputId": "01180662-abf9-4fda-8782-4a4fb051b818"
      },
      "source": [
        "#Predict Model\r\n",
        "pre=model.predict(x_test)\r\n",
        "print(pre)\r\n",
        "print(type(x_test))\r\n",
        "print(x_test)"
      ],
      "execution_count": 96,
      "outputs": [
        {
          "output_type": "stream",
          "text": [
            "[2 6 1 3 2 1 1 2 7 1 1 2 1 5 5 2 1 7 1 1 1 2 2 1 2 1 5 1 1 1 1 1 1 1 1 1 7\n",
            " 1 1 1 2 3 7 6 7 1 1 7 1 1 7 1 1 1 3 3 1 1 1 2 1 1 1 1]\n",
            "<class 'pandas.core.frame.DataFrame'>\n",
            "          RI     Na    Mg    Al     Si     K     Ca    Ba    Fe\n",
            "126  1.52081  13.78  2.28  1.43  71.99  0.49   9.85  0.00  0.17\n",
            "181  1.51916  14.15  0.00  2.09  72.74  0.00  10.88  0.00  0.00\n",
            "63   1.52172  13.48  3.74  0.90  72.01  0.18   9.61  0.00  0.07\n",
            "20   1.51966  14.77  3.75  0.29  72.02  0.03   9.00  0.00  0.00\n",
            "103  1.52410  13.83  2.90  1.17  71.15  0.08  10.79  0.00  0.00\n",
            "..       ...    ...   ...   ...    ...   ...    ...   ...   ...\n",
            "99   1.51655  12.75  2.85  1.44  73.27  0.57   8.79  0.11  0.22\n",
            "135  1.51806  13.00  3.80  1.08  73.07  0.56   8.38  0.00  0.12\n",
            "156  1.52121  14.03  3.76  0.58  71.79  0.11   9.65  0.00  0.00\n",
            "158  1.51796  13.50  3.36  1.63  71.94  0.57   8.81  0.00  0.09\n",
            "52   1.51837  13.14  2.84  1.28  72.85  0.55   9.07  0.00  0.00\n",
            "\n",
            "[64 rows x 9 columns]\n"
          ],
          "name": "stdout"
        }
      ]
    },
    {
      "cell_type": "markdown",
      "metadata": {
        "id": "53KL8h94a_mb"
      },
      "source": [
        "#Performance of model"
      ]
    },
    {
      "cell_type": "code",
      "metadata": {
        "colab": {
          "base_uri": "https://localhost:8080/"
        },
        "id": "g7miwgNAbFHm",
        "outputId": "c0378158-2c51-4f2f-9031-4e7348c3a5c9"
      },
      "source": [
        "from sklearn.metrics import mean_squared_error\r\n",
        "MSE=mean_squared_error(y_test,pre)\r\n",
        "print(MSE)"
      ],
      "execution_count": 93,
      "outputs": [
        {
          "output_type": "stream",
          "text": [
            "1.875\n"
          ],
          "name": "stdout"
        }
      ]
    },
    {
      "cell_type": "markdown",
      "metadata": {
        "id": "ZORgDNM5jIio"
      },
      "source": [
        "#Prediction"
      ]
    },
    {
      "cell_type": "code",
      "metadata": {
        "colab": {
          "base_uri": "https://localhost:8080/"
        },
        "id": "NzPMpWz5fEKW",
        "outputId": "a054baf2-6d5a-44a7-8887-56e2b1160898"
      },
      "source": [
        "lst = [['1.52101', '13.64', '4.49', '1.10', '71.78', '0.06', '8.75',\r\n",
        "       '0.00', '0.1']] \r\n",
        "  \r\n",
        "# Calling DataFrame constructor on list \r\n",
        "df = pd.DataFrame(lst) \r\n",
        "print(type(df))\r\n",
        "\r\n",
        "\r\n",
        "pre=model.predict(df)\r\n",
        "print(pre)\r\n"
      ],
      "execution_count": 101,
      "outputs": [
        {
          "output_type": "stream",
          "text": [
            "<class 'pandas.core.frame.DataFrame'>\n",
            "[2]\n"
          ],
          "name": "stdout"
        }
      ]
    }
  ]
}