{
  "nbformat": 4,
  "nbformat_minor": 0,
  "metadata": {
    "colab": {
      "name": "Decision_Tree.ipynb",
      "provenance": [],
      "collapsed_sections": [],
      "authorship_tag": "ABX9TyPkyR45ZNSxuvKvMxbpQVDr",
      "include_colab_link": true
    },
    "kernelspec": {
      "name": "python3",
      "display_name": "Python 3"
    }
  },
  "cells": [
    {
      "cell_type": "markdown",
      "metadata": {
        "id": "view-in-github",
        "colab_type": "text"
      },
      "source": [
        "<a href=\"https://colab.research.google.com/github/bachi-mohamed-rafik/ML_Project/blob/main/Decision_Tree.ipynb\" target=\"_parent\"><img src=\"https://colab.research.google.com/assets/colab-badge.svg\" alt=\"Open In Colab\"/></a>"
      ]
    },
    {
      "cell_type": "code",
      "metadata": {
        "colab": {
          "base_uri": "https://localhost:8080/"
        },
        "id": "zl6HIPGyk0Vs",
        "outputId": "cb51eec1-0b5d-468f-e268-3bfed31df064"
      },
      "source": [
        "#Create data\r\n",
        "data=[[\"Grey\",3,\"Apple\"],[\"Yellow\",3,\"Apple\"],[\"RED\",1,\"GRAPE\"],[\"RED\",1,\"GRAPE\"],[\"YELLOW\",3,\"LEMON\"],[\"Grey\",3,\"Apple\"],[\"Yellow\",3,\"Apple\"],[\"RED\",1,\"GRAPE\"],[\"RED\",1,\"GRAPE\"],[\"YELLOW\",3,\"LEMON\"],[\"Grey\",3,\"Apple\"],[\"Yellow\",3,\"Apple\"],[\"RED\",1,\"GRAPE\"],[\"RED\",1,\"GRAPE\"],[\"YELLOW\",3,\"LEMON\"],[\"Grey\",3,\"Apple\"],[\"Yellow\",3,\"Apple\"],[\"RED\",1,\"GRAPE\"],[\"RED\",1,\"GRAPE\"],[\"YELLOW\",3,\"LEMON\"]]\r\n",
        "print(data)\r\n",
        "\r\n",
        "#Cplumns label\r\n",
        "header=[\"color\",\"diameter\",\"label\"]\r\n",
        "print(header)"
      ],
      "execution_count": 39,
      "outputs": [
        {
          "output_type": "stream",
          "text": [
            "[['Grey', 3, 'Apple'], ['Yellow', 3, 'Apple'], ['RED', 1, 'GRAPE'], ['RED', 1, 'GRAPE'], ['YELLOW', 3, 'LEMON'], ['Grey', 3, 'Apple'], ['Yellow', 3, 'Apple'], ['RED', 1, 'GRAPE'], ['RED', 1, 'GRAPE'], ['YELLOW', 3, 'LEMON'], ['Grey', 3, 'Apple'], ['Yellow', 3, 'Apple'], ['RED', 1, 'GRAPE'], ['RED', 1, 'GRAPE'], ['YELLOW', 3, 'LEMON'], ['Grey', 3, 'Apple'], ['Yellow', 3, 'Apple'], ['RED', 1, 'GRAPE'], ['RED', 1, 'GRAPE'], ['YELLOW', 3, 'LEMON']]\n",
            "['color', 'diameter', 'label']\n"
          ],
          "name": "stdout"
        }
      ]
    },
    {
      "cell_type": "code",
      "metadata": {
        "colab": {
          "base_uri": "https://localhost:8080/"
        },
        "id": "KxmEliihmyRe",
        "outputId": "6037908a-ed56-4811-f25a-59299d489eb4"
      },
      "source": [
        "def unique_vals(rows, col):\r\n",
        "    \"\"\"Find the unique values for a column in a dataset.\"\"\"\r\n",
        "    return set([row[col] for row in rows])\r\n",
        "\r\n",
        "\r\n",
        "unique_vals(data, 0)    "
      ],
      "execution_count": 40,
      "outputs": [
        {
          "output_type": "execute_result",
          "data": {
            "text/plain": [
              "{'Grey', 'RED', 'YELLOW', 'Yellow'}"
            ]
          },
          "metadata": {
            "tags": []
          },
          "execution_count": 40
        }
      ]
    },
    {
      "cell_type": "code",
      "metadata": {
        "colab": {
          "base_uri": "https://localhost:8080/"
        },
        "id": "7eIHm0KyrHet",
        "outputId": "ed058bbe-8192-44a9-a159-9998a1f8a1b2"
      },
      "source": [
        "#count the number of each type\r\n",
        "def class_count(rows):\r\n",
        "  counts={}#Create a dictio of label\r\n",
        "  for row in rows:\r\n",
        "    label=row[-1]\r\n",
        "    if (label not in counts):\r\n",
        "      counts[label]=0\r\n",
        "    counts[label]+=1\r\n",
        "  return counts\r\n",
        "\r\n",
        "class_count(data)\r\n"
      ],
      "execution_count": 41,
      "outputs": [
        {
          "output_type": "execute_result",
          "data": {
            "text/plain": [
              "{'Apple': 8, 'GRAPE': 8, 'LEMON': 4}"
            ]
          },
          "metadata": {
            "tags": []
          },
          "execution_count": 41
        }
      ]
    },
    {
      "cell_type": "code",
      "metadata": {
        "colab": {
          "base_uri": "https://localhost:8080/"
        },
        "id": "k8slHyH_uR5g",
        "outputId": "1d7071fc-3652-4f6d-bad8-76e8191631e3"
      },
      "source": [
        "#test if numeric or not\r\n",
        "def is_numeric(value):\r\n",
        "  return isinstance(value,int) or isinstance(value,float)\r\n",
        "\r\n",
        "print(is_numeric(10))\r\n",
        "print(is_numeric(\"10\"))\r\n",
        "print(is_numeric(\"hello\"))"
      ],
      "execution_count": 42,
      "outputs": [
        {
          "output_type": "stream",
          "text": [
            "True\n",
            "False\n",
            "False\n"
          ],
          "name": "stdout"
        }
      ]
    },
    {
      "cell_type": "markdown",
      "metadata": {
        "id": "neMXXWnz3cZm"
      },
      "source": [
        "#Split data into train and test"
      ]
    },
    {
      "cell_type": "code",
      "metadata": {
        "colab": {
          "base_uri": "https://localhost:8080/"
        },
        "id": "JYDrxcpd3blq",
        "outputId": "ca3871bb-bcde-4204-c791-dc810fc617da"
      },
      "source": [
        "import pandas as pd\r\n",
        "import numpy as np\r\n",
        "grey=1\r\n",
        "yellow=2\r\n",
        "red=3\r\n",
        "data = pd.DataFrame(np.array([[1,3,\"Apple\"],[2,3,\"Apple\"],[3,1,\"GRAPE\"],[3,1,\"GRAPE\"],[2,3,\"LEMON\"]]),\r\n",
        "                   columns=[\"color\",\"diameter\",\"label\"])\r\n",
        "\r\n",
        "\r\n",
        "print(data)\r\n",
        "x=data.drop('label',axis=1)\r\n",
        "y=data ['label']\r\n",
        "print(x)\r\n",
        "print(y)"
      ],
      "execution_count": 43,
      "outputs": [
        {
          "output_type": "stream",
          "text": [
            "  color diameter  label\n",
            "0     1        3  Apple\n",
            "1     2        3  Apple\n",
            "2     3        1  GRAPE\n",
            "3     3        1  GRAPE\n",
            "4     2        3  LEMON\n",
            "  color diameter\n",
            "0     1        3\n",
            "1     2        3\n",
            "2     3        1\n",
            "3     3        1\n",
            "4     2        3\n",
            "0    Apple\n",
            "1    Apple\n",
            "2    GRAPE\n",
            "3    GRAPE\n",
            "4    LEMON\n",
            "Name: label, dtype: object\n"
          ],
          "name": "stdout"
        }
      ]
    },
    {
      "cell_type": "code",
      "metadata": {
        "colab": {
          "base_uri": "https://localhost:8080/"
        },
        "id": "DzlbgXKu5D9J",
        "outputId": "adfe22f6-3683-4111-813f-f665f66b31e1"
      },
      "source": [
        "from sklearn.model_selection import train_test_split\r\n",
        "x_train,x_test,y_train,y_test=train_test_split(x,y,test_size=0.2)\r\n",
        "print(\"x_train: \\n\",x_train)\r\n",
        "print(\"x_test :\\n\",x_test)\r\n",
        "print(\"y_train:\\n\",y_train)\r\n",
        "print(\"y_test:\\n\",y_test)"
      ],
      "execution_count": 44,
      "outputs": [
        {
          "output_type": "stream",
          "text": [
            "x_train: \n",
            "   color diameter\n",
            "0     1        3\n",
            "3     3        1\n",
            "1     2        3\n",
            "4     2        3\n",
            "x_test :\n",
            "   color diameter\n",
            "2     3        1\n",
            "y_train:\n",
            " 0    Apple\n",
            "3    GRAPE\n",
            "1    Apple\n",
            "4    LEMON\n",
            "Name: label, dtype: object\n",
            "y_test:\n",
            " 2    GRAPE\n",
            "Name: label, dtype: object\n"
          ],
          "name": "stdout"
        }
      ]
    },
    {
      "cell_type": "code",
      "metadata": {
        "colab": {
          "base_uri": "https://localhost:8080/"
        },
        "id": "TQ4CWWAn6a9R",
        "outputId": "9984ba33-a567-48cb-ae3c-285a12801020"
      },
      "source": [
        "#Create a classifier\r\n",
        "from sklearn.tree import DecisionTreeClassifier\r\n",
        "classifier=DecisionTreeClassifier()\r\n",
        "\r\n",
        "#Fit the model\r\n",
        "classifier.fit(x_train,y_train)"
      ],
      "execution_count": 45,
      "outputs": [
        {
          "output_type": "execute_result",
          "data": {
            "text/plain": [
              "DecisionTreeClassifier(ccp_alpha=0.0, class_weight=None, criterion='gini',\n",
              "                       max_depth=None, max_features=None, max_leaf_nodes=None,\n",
              "                       min_impurity_decrease=0.0, min_impurity_split=None,\n",
              "                       min_samples_leaf=1, min_samples_split=2,\n",
              "                       min_weight_fraction_leaf=0.0, presort='deprecated',\n",
              "                       random_state=None, splitter='best')"
            ]
          },
          "metadata": {
            "tags": []
          },
          "execution_count": 45
        }
      ]
    },
    {
      "cell_type": "code",
      "metadata": {
        "colab": {
          "base_uri": "https://localhost:8080/"
        },
        "id": "mMGSk1ZE8pw2",
        "outputId": "2c79d9e9-972d-427b-9574-fb88c5839fdc"
      },
      "source": [
        "#Predict the model\r\n",
        "y_pred=classifier.predict(x_test)\r\n",
        "print(y_pred)"
      ],
      "execution_count": 46,
      "outputs": [
        {
          "output_type": "stream",
          "text": [
            "['GRAPE']\n"
          ],
          "name": "stdout"
        }
      ]
    },
    {
      "cell_type": "code",
      "metadata": {
        "colab": {
          "base_uri": "https://localhost:8080/"
        },
        "id": "gkhgpC7o89aa",
        "outputId": "b67d4d5d-8e5a-4182-abb4-7f1e8110d57d"
      },
      "source": [
        "#Evaluating the model\r\n",
        "from sklearn.metrics import classification_report, confusion_matrix\r\n",
        "print(confusion_matrix(y_test,y_pred))\r\n",
        "print(classification_report(y_test,y_pred))"
      ],
      "execution_count": 47,
      "outputs": [
        {
          "output_type": "stream",
          "text": [
            "[[1]]\n",
            "              precision    recall  f1-score   support\n",
            "\n",
            "       GRAPE       1.00      1.00      1.00         1\n",
            "\n",
            "    accuracy                           1.00         1\n",
            "   macro avg       1.00      1.00      1.00         1\n",
            "weighted avg       1.00      1.00      1.00         1\n",
            "\n"
          ],
          "name": "stdout"
        }
      ]
    }
  ]
}