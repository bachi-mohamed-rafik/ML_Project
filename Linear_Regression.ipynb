{
  "nbformat": 4,
  "nbformat_minor": 0,
  "metadata": {
    "colab": {
      "name": "Linear Regression.ipynb",
      "provenance": [],
      "collapsed_sections": [
        "_Lbz1jiG1vVv",
        "GzNRyOrJ89xB",
        "eXDns0Sc9fq1"
      ],
      "authorship_tag": "ABX9TyP49J27jKFVnDy0UZCuFs6r",
      "include_colab_link": true
    },
    "kernelspec": {
      "name": "python3",
      "display_name": "Python 3"
    }
  },
  "cells": [
    {
      "cell_type": "markdown",
      "metadata": {
        "id": "view-in-github",
        "colab_type": "text"
      },
      "source": [
        "<a href=\"https://colab.research.google.com/github/bachi-mohamed-rafik/ML_Project/blob/main/Linear_Regression.ipynb\" target=\"_parent\"><img src=\"https://colab.research.google.com/assets/colab-badge.svg\" alt=\"Open In Colab\"/></a>"
      ]
    },
    {
      "cell_type": "markdown",
      "metadata": {
        "id": "_Lbz1jiG1vVv"
      },
      "source": [
        "# import packages"
      ]
    },
    {
      "cell_type": "code",
      "metadata": {
        "id": "A9KvU69W1Q7-"
      },
      "source": [
        "import numpy as np\r\n",
        "from sklearn.linear_model import LinearRegression"
      ],
      "execution_count": 2,
      "outputs": []
    },
    {
      "cell_type": "markdown",
      "metadata": {
        "id": "GzNRyOrJ89xB"
      },
      "source": [
        "#Provide data"
      ]
    },
    {
      "cell_type": "code",
      "metadata": {
        "id": "vjV9Qvfa9B_o"
      },
      "source": [
        "x=np.array([5,12,42,12,44,23]).reshape((-1,1))\r\n",
        "y=np.array([12,5,42,8,11,5])"
      ],
      "execution_count": 8,
      "outputs": []
    },
    {
      "cell_type": "markdown",
      "metadata": {
        "id": "eXDns0Sc9fq1"
      },
      "source": [
        "#Create a model and fit"
      ]
    },
    {
      "cell_type": "code",
      "metadata": {
        "colab": {
          "base_uri": "https://localhost:8080/"
        },
        "id": "HFZpQ1Ok9yyy",
        "outputId": "db84262b-30a4-46ce-f812-9fadc6788720"
      },
      "source": [
        "model=LinearRegression()\r\n",
        "model.fit(x,y)"
      ],
      "execution_count": 11,
      "outputs": [
        {
          "output_type": "execute_result",
          "data": {
            "text/plain": [
              "LinearRegression(copy_X=True, fit_intercept=True, n_jobs=None, normalize=False)"
            ]
          },
          "metadata": {
            "tags": []
          },
          "execution_count": 11
        }
      ]
    },
    {
      "cell_type": "markdown",
      "metadata": {
        "id": "yJXhYajK990p"
      },
      "source": [
        "#Get the result"
      ]
    },
    {
      "cell_type": "code",
      "metadata": {
        "colab": {
          "base_uri": "https://localhost:8080/"
        },
        "id": "_7sD8dza-CI_",
        "outputId": "05ca749c-dc7e-4e9f-f7cc-9357efb4b286"
      },
      "source": [
        "print(\"intercept: \",model.intercept_)\r\n",
        "print(\"coef :  \",model.coef_)\r\n",
        "\r\n",
        "y_pred=model.predict(x)\r\n",
        "\r\n",
        "xnew=np.arange(5).reshape((-1,1))\r\n",
        "print(xnew)\r\n",
        "ynew=model.predict(xnew)\r\n",
        "print(ynew)"
      ],
      "execution_count": 24,
      "outputs": [
        {
          "output_type": "stream",
          "text": [
            "intercept:  2.5687134502923943\n",
            "coef :   [0.48976608]\n",
            "[[0]\n",
            " [1]\n",
            " [2]\n",
            " [3]\n",
            " [4]]\n",
            "[2.56871345 3.05847953 3.54824561 4.0380117  4.52777778]\n"
          ],
          "name": "stdout"
        }
      ]
    }
  ]
}