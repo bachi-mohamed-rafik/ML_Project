{
  "nbformat": 4,
  "nbformat_minor": 0,
  "metadata": {
    "colab": {
      "name": "SVM.ipynb",
      "provenance": [],
      "collapsed_sections": [],
      "authorship_tag": "ABX9TyNCnJq5JK8mLyWBz+bvV8/c",
      "include_colab_link": true
    },
    "kernelspec": {
      "name": "python3",
      "display_name": "Python 3"
    }
  },
  "cells": [
    {
      "cell_type": "markdown",
      "metadata": {
        "id": "view-in-github",
        "colab_type": "text"
      },
      "source": [
        "<a href=\"https://colab.research.google.com/github/bachi-mohamed-rafik/ML_Project/blob/main/SVM.ipynb\" target=\"_parent\"><img src=\"https://colab.research.google.com/assets/colab-badge.svg\" alt=\"Open In Colab\"/></a>"
      ]
    },
    {
      "cell_type": "markdown",
      "metadata": {
        "id": "FvX2tvambfj6"
      },
      "source": [
        "#Loading data"
      ]
    },
    {
      "cell_type": "code",
      "metadata": {
        "id": "ViA69vgRbGao"
      },
      "source": [
        "from sklearn import datasets\r\n",
        "cancer=datasets.load_breast_cancer()"
      ],
      "execution_count": 2,
      "outputs": []
    },
    {
      "cell_type": "markdown",
      "metadata": {
        "id": "dYNYxe91b99B"
      },
      "source": [
        "#Exploring data"
      ]
    },
    {
      "cell_type": "code",
      "metadata": {
        "colab": {
          "base_uri": "https://localhost:8080/"
        },
        "id": "JdlTkg9ecAEK",
        "outputId": "d1af4ab5-3574-4af4-c666-2bc1886f3ff0"
      },
      "source": [
        "print(cancer.data)\r\n",
        "print(cancer.target)\r\n",
        "print(cancer.target_names)"
      ],
      "execution_count": 7,
      "outputs": [
        {
          "output_type": "stream",
          "text": [
            "[[1.799e+01 1.038e+01 1.228e+02 ... 2.654e-01 4.601e-01 1.189e-01]\n",
            " [2.057e+01 1.777e+01 1.329e+02 ... 1.860e-01 2.750e-01 8.902e-02]\n",
            " [1.969e+01 2.125e+01 1.300e+02 ... 2.430e-01 3.613e-01 8.758e-02]\n",
            " ...\n",
            " [1.660e+01 2.808e+01 1.083e+02 ... 1.418e-01 2.218e-01 7.820e-02]\n",
            " [2.060e+01 2.933e+01 1.401e+02 ... 2.650e-01 4.087e-01 1.240e-01]\n",
            " [7.760e+00 2.454e+01 4.792e+01 ... 0.000e+00 2.871e-01 7.039e-02]]\n",
            "[0 0 0 0 0 0 0 0 0 0 0 0 0 0 0 0 0 0 0 1 1 1 0 0 0 0 0 0 0 0 0 0 0 0 0 0 0\n",
            " 1 0 0 0 0 0 0 0 0 1 0 1 1 1 1 1 0 0 1 0 0 1 1 1 1 0 1 0 0 1 1 1 1 0 1 0 0\n",
            " 1 0 1 0 0 1 1 1 0 0 1 0 0 0 1 1 1 0 1 1 0 0 1 1 1 0 0 1 1 1 1 0 1 1 0 1 1\n",
            " 1 1 1 1 1 1 0 0 0 1 0 0 1 1 1 0 0 1 0 1 0 0 1 0 0 1 1 0 1 1 0 1 1 1 1 0 1\n",
            " 1 1 1 1 1 1 1 1 0 1 1 1 1 0 0 1 0 1 1 0 0 1 1 0 0 1 1 1 1 0 1 1 0 0 0 1 0\n",
            " 1 0 1 1 1 0 1 1 0 0 1 0 0 0 0 1 0 0 0 1 0 1 0 1 1 0 1 0 0 0 0 1 1 0 0 1 1\n",
            " 1 0 1 1 1 1 1 0 0 1 1 0 1 1 0 0 1 0 1 1 1 1 0 1 1 1 1 1 0 1 0 0 0 0 0 0 0\n",
            " 0 0 0 0 0 0 0 1 1 1 1 1 1 0 1 0 1 1 0 1 1 0 1 0 0 1 1 1 1 1 1 1 1 1 1 1 1\n",
            " 1 0 1 1 0 1 0 1 1 1 1 1 1 1 1 1 1 1 1 1 1 0 1 1 1 0 1 0 1 1 1 1 0 0 0 1 1\n",
            " 1 1 0 1 0 1 0 1 1 1 0 1 1 1 1 1 1 1 0 0 0 1 1 1 1 1 1 1 1 1 1 1 0 0 1 0 0\n",
            " 0 1 0 0 1 1 1 1 1 0 1 1 1 1 1 0 1 1 1 0 1 1 0 0 1 1 1 1 1 1 0 1 1 1 1 1 1\n",
            " 1 0 1 1 1 1 1 0 1 1 0 1 1 1 1 1 1 1 1 1 1 1 1 0 1 0 0 1 0 1 1 1 1 1 0 1 1\n",
            " 0 1 0 1 1 0 1 0 1 1 1 1 1 1 1 1 0 0 1 1 1 1 1 1 0 1 1 1 1 1 1 1 1 1 1 0 1\n",
            " 1 1 1 1 1 1 0 1 0 1 1 0 1 1 1 1 1 0 0 1 0 1 0 1 1 1 1 1 0 1 1 0 1 0 1 0 0\n",
            " 1 1 1 0 1 1 1 1 1 1 1 1 1 1 1 0 1 0 0 1 1 1 1 1 1 1 1 1 1 1 1 1 1 1 1 1 1\n",
            " 1 1 1 1 1 1 1 0 0 0 0 0 0 1]\n",
            "['malignant' 'benign']\n"
          ],
          "name": "stdout"
        }
      ]
    },
    {
      "cell_type": "markdown",
      "metadata": {
        "id": "HyjPBIH5c_Dz"
      },
      "source": [
        "#Splitting data"
      ]
    },
    {
      "cell_type": "code",
      "metadata": {
        "colab": {
          "base_uri": "https://localhost:8080/"
        },
        "id": "n0TQeZpudEyz",
        "outputId": "a8a83195-63ae-4466-f72b-6ab1736971d7"
      },
      "source": [
        "from sklearn.model_selection import train_test_split\r\n",
        "x_train,x_test,y_train,y_test=train_test_split(cancer.data,cancer.target)\r\n",
        "print(\"x_train \\n\",x_train)\r\n",
        "print(\"x_test\\n\",x_test)"
      ],
      "execution_count": 9,
      "outputs": [
        {
          "output_type": "stream",
          "text": [
            "x_train \n",
            " [[1.104e+01 1.493e+01 7.067e+01 ... 6.754e-02 3.202e-01 7.287e-02]\n",
            " [8.950e+00 1.576e+01 5.874e+01 ... 3.846e-02 1.652e-01 7.722e-02]\n",
            " [1.519e+01 1.321e+01 9.765e+01 ... 8.178e-02 2.487e-01 6.766e-02]\n",
            " ...\n",
            " [1.026e+01 1.471e+01 6.620e+01 ... 4.074e-02 2.434e-01 8.488e-02]\n",
            " [1.969e+01 2.125e+01 1.300e+02 ... 2.430e-01 3.613e-01 8.758e-02]\n",
            " [2.137e+01 1.510e+01 1.413e+02 ... 1.966e-01 2.730e-01 8.666e-02]]\n",
            "x_test\n",
            " [[1.345e+01 1.830e+01 8.660e+01 ... 7.911e-02 2.678e-01 6.603e-02]\n",
            " [1.016e+01 1.959e+01 6.473e+01 ... 2.232e-02 2.262e-01 6.742e-02]\n",
            " [1.137e+01 1.889e+01 7.217e+01 ... 6.203e-02 3.267e-01 6.994e-02]\n",
            " ...\n",
            " [1.375e+01 2.377e+01 8.854e+01 ... 6.106e-02 2.663e-01 6.321e-02]\n",
            " [9.268e+00 1.287e+01 6.149e+01 ... 1.025e-01 3.038e-01 1.252e-01]\n",
            " [1.088e+01 1.562e+01 7.041e+01 ... 7.966e-02 2.581e-01 1.080e-01]]\n"
          ],
          "name": "stdout"
        }
      ]
    },
    {
      "cell_type": "markdown",
      "metadata": {
        "id": "Cv0enH5meIr6"
      },
      "source": [
        "#Generate model"
      ]
    },
    {
      "cell_type": "code",
      "metadata": {
        "id": "ySW36wmpeL6Q"
      },
      "source": [
        "from sklearn import svm\r\n",
        "\r\n",
        "#Create svm class\r\n",
        "clf=svm.SVC(kernel='linear')\r\n",
        "\r\n",
        "#Train the model\r\n",
        "clf.fit(x_train,y_train)\r\n",
        "\r\n",
        "#Predict \r\n",
        "y_pred=clf.predict(x_test)"
      ],
      "execution_count": 13,
      "outputs": []
    },
    {
      "cell_type": "markdown",
      "metadata": {
        "id": "8Lhh_lYPielT"
      },
      "source": [
        "#Evaluating model"
      ]
    },
    {
      "cell_type": "code",
      "metadata": {
        "colab": {
          "base_uri": "https://localhost:8080/"
        },
        "id": "o1LpikSoiijk",
        "outputId": "c439bd44-eb90-451a-ad38-c916bd9cbd1e"
      },
      "source": [
        "from sklearn import metrics\r\n",
        "\r\n",
        "#Evaluate the accuracy\r\n",
        "print(\"Accuracy :\\n\",metrics.accuracy_score(y_test,y_pred))\r\n",
        "\r\n",
        "#Evaluate the precision\r\n",
        "print(\"Precision :\\n\",metrics.precision_score(y_test,y_pred))\r\n",
        "\r\n",
        "#Evaluate the recall\r\n",
        "print(\"Recall :\\n\",metrics.recall_score(y_test,y_pred))"
      ],
      "execution_count": 16,
      "outputs": [
        {
          "output_type": "stream",
          "text": [
            "Accuracy :\n",
            " 0.958041958041958\n",
            "Precision :\n",
            " 0.9578947368421052\n",
            "Recall :\n",
            " 0.978494623655914\n"
          ],
          "name": "stdout"
        }
      ]
    }
  ]
}